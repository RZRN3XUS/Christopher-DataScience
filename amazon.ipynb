{
 "cells": [
  {
   "cell_type": "markdown",
   "metadata": {},
   "source": []
  },
  {
   "cell_type": "code",
   "execution_count": 100,
   "metadata": {},
   "outputs": [
    {
     "name": "stdout",
     "output_type": "stream",
     "text": [
      "Total spent before tax: $28814.25\n",
      "Most expensive order: EVGA 10G-P5-3885-KR GeForce RTX 3080 XC3 ULTRA GAMING, 10GB GDDR6X, iCX3 Cooling, ARGB LED, Metal Backplate priced at $1269.99\n",
      "Least expensive order: Virtually explore and shop in Tokyo's Asakusa district -- Experience Kit priced at $1.0\n",
      "Average order cost: $33.31\n",
      "Total paid in taxes: $1692.44\n",
      "Effective tax rate: 0.059\n"
     ]
    }
   ],
   "source": [
    "import matplotlib.pyplot as plt\n",
    "import numpy as np\n",
    "import csv\n",
    "import os\n",
    "\n",
    "os.system('cls')\n",
    "file = open('amazondata.csv', encoding='utf-8')\n",
    "\n",
    "amazonData = csv.reader(file)\n",
    "header = next(amazonData)\n",
    "\n",
    "amazonList = []\n",
    "\n",
    "for row in amazonData:\n",
    "    amazonList.append(row)\n",
    "\n",
    "array = np.array(amazonList)\n",
    "\n",
    "prices = np.char.strip(array[ :,12], '$').astype(float)\n",
    "print('Total spent before tax: $' + str(np.sum(prices)))\n",
    "print('Most expensive order: ' + array[np.argmax(prices[np.nonzero(prices)]) + 1, 2] + ' priced at $' + str(np.amax(prices[np.nonzero(prices)])))\n",
    "print('Least expensive order: ' + array[np.argmin(prices[np.nonzero(prices)]) + 1, 2] + ' priced at $' + str(np.amin(prices[np.nonzero(prices)])))\n",
    "print('Average order cost: $' + str(round(np.mean(prices), 2)))\n",
    "print('Total paid in taxes: $' + str(np.sum(np.char.strip(array[ :,28], '$').astype(float))))\n",
    "print('Effective tax rate: ' + str(round(np.sum(np.char.strip(array[ :,28], '$').astype(float))/np.sum(prices), 3)))"
   ]
  },
  {
   "cell_type": "code",
   "execution_count": 101,
   "metadata": {},
   "outputs": [
    {
     "data": {
      "image/png": "[encoded data removed]",
      "text/plain": [
       "<Figure size 432x288 with 1 Axes>"
      ]
     },
     "metadata": {
      "needs_background": "light"
     },
     "output_type": "display_data"
    }
   ],
   "source": [
    "plt.bar(np.arange(np.size(prices)), prices, color = 'red')\n",
    "plt.show()"
   ]
  }
 ],
 "metadata": {
  "interpreter": {
   "hash": "c72a629dba5ae9edebcad565c17c3988d814021371aabb3db62cb04d2b10dbfe"
  },
  "kernelspec": {
   "display_name": "Python 3.9.7 ('base')",
   "language": "python",
   "name": "python3"
  },
  "language_info": {
   "codemirror_mode": {
    "name": "ipython",
    "version": 3
   },
   "file_extension": ".py",
   "mimetype": "text/x-python",
   "name": "python",
   "nbconvert_exporter": "python",
   "pygments_lexer": "ipython3",
   "version": "3.9.7"
  },
  "orig_nbformat": 4
 },
 "nbformat": 4,
 "nbformat_minor": 2
}
