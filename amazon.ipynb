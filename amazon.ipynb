{
 "cells": [
  {
   "cell_type": "markdown",
   "metadata": {},
   "source": []
  },
  {
   "cell_type": "code",
   "execution_count": null,
   "metadata": {},
   "outputs": [],
   "source": [
    "import matplotlib.pyplot as plt\n",
    "import numpy as np\n",
    "import csv\n",
    "import os\n",
    "\n",
    "os.system('cls')\n",
    "file = open('amazondata.csv')\n",
    "\n",
    "amazonData = csv.reader(file)\n",
    "header = next(amazonData)\n",
    "\n",
    "amazonList = []\n",
    "\n",
    "for row in amazonData:\n",
    "    amazonList.append(row)\n",
    "amazonList.close()\n",
    "\n"
   ]
  }
 ],
 "metadata": {
  "interpreter": {
   "hash": "c72a629dba5ae9edebcad565c17c3988d814021371aabb3db62cb04d2b10dbfe"
  },
  "kernelspec": {
   "display_name": "Python 3.9.7 ('base')",
   "language": "python",
   "name": "python3"
  },
  "language_info": {
   "codemirror_mode": {
    "name": "ipython",
    "version": 3
   },
   "file_extension": ".py",
   "mimetype": "text/x-python",
   "name": "python",
   "nbconvert_exporter": "python",
   "pygments_lexer": "ipython3",
   "version": "3.9.7"
  },
  "orig_nbformat": 4
 },
 "nbformat": 4,
 "nbformat_minor": 2
}
