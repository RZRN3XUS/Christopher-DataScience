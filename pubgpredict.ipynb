{
 "cells": [
  {
   "cell_type": "code",
   "execution_count": 9,
   "metadata": {},
   "outputs": [
    {
     "name": "stdout",
     "output_type": "stream",
     "text": [
      "Predicted match place based on data: 58\n"
     ]
    }
   ],
   "source": [
    "from joblib import load\n",
    "\n",
    "model = load('model.joblib')\n",
    "kills = float(input(\"Enter your current kills: \"))\n",
    "assists = float(input(\"Enter your current assists: \"))\n",
    "dmgDealt = float(input(\"Enter your damage dealt: \"))\n",
    "walkDistance = float(input(\"Enter your distance walked: \"))\n",
    "matchDuration = float(input(\"Enter your approximate match duration\"))\n",
    "prediction = model.predict([[dmgDealt, kills, assists, walkDistance, matchDuration]])\n",
    "print('Predicted match place based on data: ', end = '')\n",
    "print(round(prediction[0]))\n"
   ]
  }
 ],
 "metadata": {
  "interpreter": {
   "hash": "c72a629dba5ae9edebcad565c17c3988d814021371aabb3db62cb04d2b10dbfe"
  },
  "kernelspec": {
   "display_name": "Python 3.9.7 ('base')",
   "language": "python",
   "name": "python3"
  },
  "language_info": {
   "codemirror_mode": {
    "name": "ipython",
    "version": 3
   },
   "file_extension": ".py",
   "mimetype": "text/x-python",
   "name": "python",
   "nbconvert_exporter": "python",
   "pygments_lexer": "ipython3",
   "version": "3.9.7"
  },
  "orig_nbformat": 4
 },
 "nbformat": 4,
 "nbformat_minor": 2
}
