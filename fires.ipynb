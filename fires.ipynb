{
 "cells": [
  {
   "cell_type": "markdown",
   "metadata": {},
   "source": [
    "Questions\n",
    "\n",
    "How does temp affect chance of fires?\n",
    "How does windspeed affect fires?\n",
    "How does avg windspeed affect length of fire?"
   ]
  },
  {
   "cell_type": "markdown",
   "metadata": {},
   "source": [
    "Starting with imports and adding data to a numpy array\n",
    "\n",
    "Fire data format - id,unit,name,start,end,agency,acres,cause"
   ]
  },
  {
   "cell_type": "code",
   "execution_count": 26,
   "metadata": {},
   "outputs": [
    {
     "data": {
      "image/png": "[encoded data removed]",
      "text/plain": [
       "<Figure size 432x288 with 1 Axes>"
      ]
     },
     "metadata": {
      "needs_background": "light"
     },
     "output_type": "display_data"
    },
    {
     "data": {
      "text/plain": [
       "<Figure size 2160x720 with 0 Axes>"
      ]
     },
     "metadata": {},
     "output_type": "display_data"
    }
   ],
   "source": [
    "import os, csv, numpy, matplotlib.pyplot\n",
    "\n",
    "os.system('cls')\n",
    "\n",
    "fireFile = open('calfires.csv')\n",
    "weatherFile = open('weather.csv')\n",
    "\n",
    "header = next(fireFile)\n",
    "header = next(weatherFile)\n",
    "\n",
    "fireData = csv.reader(fireFile)\n",
    "weatherData = csv.reader(weatherFile)\n",
    "\n",
    "fire = []\n",
    "weath = []\n",
    "\n",
    "for row in fireData:\n",
    "    fire.append(row)\n",
    "\n",
    "fires = numpy.array(fire)\n",
    "\n",
    "for row in weatherData:\n",
    "    weath.append(row)\n",
    "\n",
    "weather = numpy.array(weath)\n",
    "\n",
    "check = []\n",
    "\n",
    "for row in weather:\n",
    "    date = False\n",
    "    for row2 in fires:\n",
    "        if row2[3] == row[1]:\n",
    "            date = True\n",
    "    if date == True:\n",
    "        check.append(row[2])\n",
    "\n",
    "check = list(filter(None, check))\n",
    "\n",
    "matplotlib.pyplot.hist(check)\n",
    "p = matplotlib.pyplot.figure()\n",
    "p.set_figwidth(30)\n",
    "p.set_figheight(10)\n",
    "matplotlib.pyplot.show()\n"
   ]
  }
 ],
 "metadata": {
  "interpreter": {
   "hash": "8fa8db45c6341d4c26f24dc8381e2c3c432060d26e2837089ffdef2b93d69026"
  },
  "kernelspec": {
   "display_name": "Python 3.9.10 64-bit (windows store)",
   "language": "python",
   "name": "python3"
  },
  "language_info": {
   "codemirror_mode": {
    "name": "ipython",
    "version": 3
   },
   "file_extension": ".py",
   "mimetype": "text/x-python",
   "name": "python",
   "nbconvert_exporter": "python",
   "pygments_lexer": "ipython3",
   "version": "3.9.7"
  },
  "orig_nbformat": 4
 },
 "nbformat": 4,
 "nbformat_minor": 2
}
