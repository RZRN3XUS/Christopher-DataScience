{
 "cells": [
  {
   "cell_type": "markdown",
   "metadata": {},
   "source": [
    "PUBG placement prediction estimator\n",
    "https://www.kaggle.com/competitions/pubg-finish-placement-prediction\n",
    "https://openclassrooms.com/en/courses/6389626-train-a-supervised-machine-learning-model/6398756-build-a-model-with-python"
   ]
  },
  {
   "cell_type": "code",
   "execution_count": 5,
   "metadata": {},
   "outputs": [
    {
     "name": "stdout",
     "output_type": "stream",
     "text": [
      "0.08247069735015655\n"
     ]
    },
    {
     "data": {
      "text/plain": [
       "['model.joblib']"
      ]
     },
     "execution_count": 5,
     "metadata": {},
     "output_type": "execute_result"
    }
   ],
   "source": [
    "import numpy as np\n",
    "import pandas as pd\n",
    "from joblib import dump, load\n",
    "from sklearn.model_selection import train_test_split\n",
    "from sklearn.metrics import accuracy_score\n",
    "from sklearn import tree\n",
    "data = pd.read_csv('train_V2.csv')\n",
    "data.drop(data[(data['kills'] == 0) & (data['damageDealt'] == 0)].index, inplace=True)\n",
    "data['winPlacePerc'] = round(100 * data['winPlacePerc'], 0)\n",
    "responseY = data[\"winPlacePerc\"]\n",
    "explanatoryX = data[[\"damageDealt\",\"kills\", \"assists\", \"walkDistance\", \"matchDuration\"]]\n",
    "responseY.head()\n",
    "# Split into test and training sets\n",
    "test_size = 0.05\n",
    "seed = 7\n",
    "X_train, X_test, y_train, y_test =  train_test_split(explanatoryX, responseY, test_size=test_size, random_state=seed)\n",
    "# Select algorithm\n",
    "model = tree.DecisionTreeClassifier()\n",
    "# Fit model to the data\n",
    "model.fit(X_train, y_train)\n",
    "dump(model, 'model.joblib') \n"
   ]
  },
  {
   "cell_type": "markdown",
   "metadata": {},
   "source": [
    "Current prediction accuracies: \n",
    "Unfiltered index (Kills/Damage/Assists only) = 0.15057187304782632\n",
    "Filtered index (Kills/Damage only) = 0.15173282672728677\n",
    "Filtered index (Kills/Damage/Assists only) = 0.19953837764891305\n",
    "Filtered index (Kills/Damage/Assists/WalkDistance only) = 0.9338378644862023\n",
    "Filtered index (Kills/Damage/Assists/WalkDistance/matchDuration only) = 0.998886404549495\n",
    "Filtered index & test size .75 (Kills/Damage/Assists/WalkDistance/matchDuration only) = 0.9993302243126084\n",
    "Achieved 1 with current parameters"
   ]
  }
 ],
 "metadata": {
  "interpreter": {
   "hash": "c72a629dba5ae9edebcad565c17c3988d814021371aabb3db62cb04d2b10dbfe"
  },
  "kernelspec": {
   "display_name": "Python 3.9.7 ('base')",
   "language": "python",
   "name": "python3"
  },
  "language_info": {
   "codemirror_mode": {
    "name": "ipython",
    "version": 3
   },
   "file_extension": ".py",
   "mimetype": "text/x-python",
   "name": "python",
   "nbconvert_exporter": "python",
   "pygments_lexer": "ipython3",
   "version": "3.9.7"
  },
  "orig_nbformat": 4
 },
 "nbformat": 4,
 "nbformat_minor": 2
}
