{
 "cells": [
  {
   "cell_type": "code",
   "execution_count": 14,
   "metadata": {},
   "outputs": [
    {
     "name": "stdout",
     "output_type": "stream",
     "text": [
      "['age', 'sex', 'bmi', 'children', 'smoker', 'region', 'charges']\n"
     ]
    }
   ],
   "source": [
    "import os\n",
    "import numpy as np\n",
    "import matplotlib.pyplot as plot\n",
    "import csv\n",
    "file = open('insurance_data.csv')\n",
    "insuranceFile = csv.reader(file)\n",
    "header = next(insuranceFile)\n",
    "print(header)\n",
    "newData = []\n",
    "for row in insuranceFile:\n",
    "    newData.append(row)\n",
    "#change female to 0\n",
    "#change male to 1\n",
    "for i in range(len(newData)):\n",
    "    if newData[i][1] == \"female\":\n",
    "        newData[i][1] = 0\n",
    "    else:\n",
    "        newData[i][1] = 1\n",
    "#change smoker to 1\n",
    "#change nonsmoker to 0\n",
    "for i in range(len(newData)):\n",
    "    if newData[i][1] == \"yes\":\n",
    "        newData[i][4] = 1\n",
    "    else:\n",
    "        newData[i][4] = 0"
   ]
  },
  {
   "cell_type": "code",
   "execution_count": 15,
   "metadata": {},
   "outputs": [
    {
     "name": "stdout",
     "output_type": "stream",
     "text": [
      "[['18' '0' '26.315' ... '0' 'northeast' '2198.18985']\n",
      " ['18' '0' '38.665' ... '0' 'northeast' '3393.35635']\n",
      " ['18' '0' '35.625' ... '0' 'northeast' '2211.13075']\n",
      " ...\n",
      " ['64' '1' '26.41' ... '0' 'northeast' '14394.5579']\n",
      " ['64' '1' '36.96' ... '0' 'southeast' '49577.6624']\n",
      " ['64' '1' '23.76' ... '0' 'southeast' '26926.5144']]\n"
     ]
    },
    {
     "data": {
      "image/png": "[encoded data removed]",
      "text/plain": [
       "<Figure size 432x288 with 1 Axes>"
      ]
     },
     "metadata": {
      "needs_background": "light"
     },
     "output_type": "display_data"
    }
   ],
   "source": [
    "dataSample = np.array(newData)\n",
    "print(dataSample)\n",
    "age = dataSample[ :,0].astype(int)\n",
    "cost = dataSample [ :,6].astype(float)\n",
    "plot.scatter(age, cost)\n",
    "plot.show()"
   ]
  },
  {
   "cell_type": "code",
   "execution_count": 21,
   "metadata": {},
   "outputs": [
    {
     "data": {
      "text/plain": [
       "array([26.315, 38.665, 35.625, 30.115, 36.85 , 38.28 , 26.73 , 38.28 ,\n",
       "       20.79 , 38.17 , 29.165, 24.09 , 30.115, 31.35 , 25.08 , 33.88 ,\n",
       "       32.12 , 37.29 , 39.16 , 33.155, 40.28 , 42.24 , 31.13 , 40.26 ,\n",
       "       40.185, 31.35 , 30.305, 28.215, 27.28 , 39.82 , 21.66 , 31.92 ,\n",
       "       36.85 , 27.9  , 28.6  , 28.9  , 28.4  , 28.3  , 31.825, 32.11 ,\n",
       "       17.8  , 24.7  , 21.7  , 37.43 , 35.15 , 29.8  , 32.9  , 30.59 ,\n",
       "       30.495, 28.31 , 33.11 , 24.51 , 28.88 , 36.575, 22.515, 23.4  ,\n",
       "       39.615, 40.5  , 24.605, 18.6  , 32.49 , 27.93 , 30.02 , 25.745,\n",
       "       34.7  , 20.6  , 22.42 , 28.975, 28.785, 37.   , 26.84 , 31.79 ,\n",
       "       33.   , 31.46 , 29.6  , 31.92 , 30.59 , 24.42 , 21.8  , 33.3  ,\n",
       "       33.63 , 39.49 , 35.72 , 26.4  , 21.89 , 16.815, 21.85 , 17.4  ,\n",
       "       34.87 , 22.135, 32.68 , 34.6  , 25.8  , 39.805, 28.05 , 36.   ,\n",
       "       24.3  , 28.82 , 34.58 , 23.18 , 20.235, 31.02 , 30.4  , 27.1  ,\n",
       "       21.28 , 30.4  , 36.67 , 28.31 , 34.96 , 39.27 , 32.78 , 28.12 ,\n",
       "       31.4  , 42.75 , 23.18 , 34.865, 28.49 , 28.   , 24.225, 33.4  ,\n",
       "       26.6  , 33.345, 23.21 , 27.6  , 30.21 , 25.27 , 22.6  , 30.1  ,\n",
       "       24.225, 33.99 , 20.52 , 39.49 , 29.925, 27.72 , 28.595, 41.325,\n",
       "       23.465, 32.23 , 24.3  , 22.515, 33.99 , 30.3  , 42.13 , 34.485,\n",
       "       26.79 , 20.8  , 30.2  , 28.785, 29.92 , 29.92 , 29.64 , 22.61 ,\n",
       "       17.195, 42.4  , 40.185, 29.48 , 29.355, 19.8  , 34.2  , 22.23 ,\n",
       "       24.75 , 36.08 , 31.4  , 23.21 , 17.955, 30.4  , 25.175, 34.8  ,\n",
       "       24.1  , 30.59 , 20.045, 21.47 , 32.395, 31.255, 34.77 , 25.935,\n",
       "       37.62 , 28.88 , 33.4  , 33.   , 27.5  , 24.32 , 23.845, 25.8  ,\n",
       "       26.315, 33.11 , 17.29 , 26.51 , 29.59 , 27.94 , 38.83 , 32.11 ,\n",
       "       20.235, 26.03 , 35.53 , 31.16 , 21.755, 25.9  , 25.6  , 24.6  ,\n",
       "       21.85 , 32.4  , 30.9  , 33.33 , 27.7  , 28.38 , 43.12 , 39.05 ,\n",
       "       22.895, 28.405, 27.93 , 19.95 , 21.945, 23.655, 25.74 , 36.63 ,\n",
       "       32.68 , 31.065, 23.6  , 29.1  , 38.095, 30.495, 26.62 , 29.26 ,\n",
       "       32.775, 21.755, 25.8  , 17.765, 37.145, 29.8  , 33.155, 44.22 ,\n",
       "       28.93 , 23.65 , 31.54 , 24.6  , 29.59 , 41.1  , 20.52 , 29.735,\n",
       "       22.135, 24.31 , 33.5  , 38.9  , 28.27 , 18.5  , 32.9  , 42.94 ,\n",
       "       35.53 , 36.29 , 19.095, 39.82 , 26.695, 31.92 , 37.335, 27.5  ,\n",
       "       26.73 , 33.7  , 29.26 , 38.   , 30.21 , 33.25 , 19.   , 26.41 ,\n",
       "       23.56 , 27.72 , 34.8  , 43.34 , 31.   , 34.105, 38.095, 27.7  ,\n",
       "       23.465, 34.21 , 28.025, 35.86 , 35.815, 26.125, 26.2  , 29.92 ,\n",
       "       22.6  , 27.74 , 25.84 , 19.855, 30.02 , 29.04 , 29.92 , 26.885,\n",
       "       22.135, 25.9  , 27.74 , 30.8  , 34.8  , 23.37 , 38.39 , 26.4  ,\n",
       "       30.78 , 47.6  , 29.5  , 17.29 , 34.105, 25.555, 40.15 , 27.265,\n",
       "       28.93 , 37.73 , 40.565, 30.69 , 34.8  , 19.475, 28.   , 27.835,\n",
       "       27.6  , 30.21 , 19.95 , 32.8  , 24.89 , 22.8  , 41.8  , 31.92 ,\n",
       "       32.5  , 24.225, 34.32 , 23.275, 34.1  , 18.3  , 23.87 , 26.315,\n",
       "       28.69 , 36.19 , 25.46 , 22.22 , 28.12 , 29.6  , 33.   , 23.37 ,\n",
       "       32.775, 29.81 , 41.42 , 27.4  , 29.3  , 32.965, 31.6  , 33.155,\n",
       "       32.2  , 37.1  , 31.635, 33.06 , 31.02 , 36.08 , 32.6  , 28.31 ,\n",
       "       21.755, 28.05 , 23.37 , 26.6  , 36.195, 24.985, 33.155, 29.48 ,\n",
       "       29.   , 26.18 , 25.3  , 41.325, 37.9  , 40.37 , 32.87 , 35.72 ,\n",
       "       34.4  , 35.64 , 46.2  , 30.685, 20.045, 26.885, 24.7  , 25.08 ,\n",
       "       32.56 , 34.58 , 26.7  , 25.27 , 29.9  , 26.41 , 27.645, 20.235,\n",
       "       38.06 , 23.98 , 38.95 , 43.89 , 36.48 , 29.81 , 32.34 , 27.5  ,\n",
       "       25.8  , 36.955, 25.   , 38.285, 28.6  , 30.9  , 33.1  , 36.3  ,\n",
       "       25.175, 35.815, 35.3  , 39.995, 27.645, 30.495, 31.79 , 27.83 ,\n",
       "       25.7  , 33.44 , 27.74 , 28.9  , 48.07 , 27.72 , 32.3  , 30.2  ,\n",
       "       28.05 , 19.95 , 33.725, 30.8  , 35.53 , 23.655, 34.6  , 33.915,\n",
       "       26.6  , 23.6  , 33.345, 29.37 , 36.63 , 24.1  , 29.545, 36.   ,\n",
       "       27.83 , 26.125, 45.32 , 32.   , 27.645, 24.32 , 41.23 , 32.23 ,\n",
       "       28.88 , 32.3  , 31.13 , 35.91 , 27.265, 33.11 , 22.8  , 28.9  ,\n",
       "       25.85 , 27.93 , 27.36 , 36.575, 33.33 , 27.17 , 41.47 , 30.78 ,\n",
       "       36.63 , 31.9  , 21.3  , 42.68 , 23.18 , 22.61 , 34.77 , 23.845,\n",
       "       27.1  , 29.925, 33.345, 27.83 , 25.6  , 27.36 , 44.745, 23.54 ,\n",
       "       27.075, 30.115, 27.6  , 46.09 , 28.16 , 31.6  , 33.7  , 26.22 ,\n",
       "       28.12 , 37.73 , 18.05 , 21.56 , 20.6  , 39.5  , 33.915, 25.8  ,\n",
       "       34.1  , 38.06 , 36.67 , 40.66 , 34.2  , 37.05 , 34.96 , 36.385,\n",
       "       30.78 , 37.4  , 31.2  , 38.38 , 46.75 , 31.73 , 37.525, 25.3  ,\n",
       "       30.875, 18.335, 24.86 , 24.13 , 33.3  , 23.18 , 44.7  , 22.88 ,\n",
       "       28.1  , 24.795, 35.9  , 37.43 , 26.6  , 33.25 , 38.06 , 22.61 ,\n",
       "       39.6  , 32.3  , 26.7  , 23.75 , 36.86 , 30.8  , 31.9  , 21.47 ,\n",
       "       47.41 , 46.7  , 32.68 , 35.815, 23.   , 31.9  , 28.88 , 31.24 ,\n",
       "       32.3  , 24.605, 27.645, 32.775, 26.98 , 29.7  , 26.8  , 25.365,\n",
       "       32.395, 30.14 , 37.1  , 40.81 , 33.535, 35.2  , 29.83 , 30.5  ,\n",
       "       39.82 , 27.2  , 26.6  , 37.51 , 28.785, 32.3  , 25.65 , 33.82 ,\n",
       "       25.3  , 28.595, 28.31 , 35.8  , 41.91 , 31.16 , 38.   , 23.18 ,\n",
       "       22.23 , 30.495, 28.7  , 34.295, 28.785, 23.98 , 31.825, 29.81 ,\n",
       "       20.1  , 25.74 , 31.825, 41.91 , 25.2  , 39.05 , 27.17 , 29.   ,\n",
       "       32.965, 33.44 , 22.77 , 33.1  , 36.48 , 32.395, 28.215, 27.72 ,\n",
       "       26.505, 27.83 , 32.395, 36.765, 36.52 , 23.655, 35.2  , 32.1  ,\n",
       "       31.35 , 26.695, 27.5  , 34.8  , 25.84 , 36.005, 24.53 , 24.035,\n",
       "       38.06 , 27.55 , 30.5  , 28.7  , 32.45 , 35.1  , 18.335, 39.1  ,\n",
       "       29.92 , 22.04 , 36.385, 31.16 , 21.09 , 25.08 , 35.91 , 44.   ,\n",
       "       28.2  , 33.33 , 29.07 , 26.29 , 32.965, 38.095, 39.2  , 31.73 ,\n",
       "       36.86 , 29.92 , 25.   , 33.2  , 39.16 , 30.495, 32.68 , 23.085,\n",
       "       37.7  , 31.8  , 27.74 , 32.2  , 26.22 , 26.98 , 36.3  , 35.2  ,\n",
       "       36.85 , 25.08 , 21.66 , 31.3  , 39.33 , 33.8  , 30.115, 32.965,\n",
       "       39.05 , 22.99 , 39.7  , 35.97 , 31.825, 26.885])"
      ]
     },
     "execution_count": 21,
     "metadata": {},
     "output_type": "execute_result"
    }
   ],
   "source": [
    "women = np.where(dataSample[ :,1] == '0')\n",
    "women2 = dataSample[women]\n",
    "smoker = np.where(women2[ :,4] == 'no')\n",
    "bmi = women2[ :,2].astype(float)\n",
    "bmi\n"
   ]
  }
 ],
 "metadata": {
  "interpreter": {
   "hash": "c72a629dba5ae9edebcad565c17c3988d814021371aabb3db62cb04d2b10dbfe"
  },
  "kernelspec": {
   "display_name": "Python 3.9.7 64-bit ('base': conda)",
   "language": "python",
   "name": "python3"
  },
  "language_info": {
   "codemirror_mode": {
    "name": "ipython",
    "version": 3
   },
   "file_extension": ".py",
   "mimetype": "text/x-python",
   "name": "python",
   "nbconvert_exporter": "python",
   "pygments_lexer": "ipython3",
   "version": "3.9.7"
  },
  "orig_nbformat": 4
 },
 "nbformat": 4,
 "nbformat_minor": 2
}
