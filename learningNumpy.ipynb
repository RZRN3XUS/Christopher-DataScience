{
 "cells": [
  {
   "cell_type": "code",
   "execution_count": 57,
   "metadata": {},
   "outputs": [
    {
     "name": "stdout",
     "output_type": "stream",
     "text": [
      "type <class 'numpy.ndarray'>\n",
      "type of elements int32\n",
      "dim =  2\n",
      "shape (2, 2)\n"
     ]
    },
    {
     "data": {
      "text/plain": [
       "array([[96, 64, 64, 70],\n",
       "       [72, 59, 56, 98],\n",
       "       [95, 64, 75, 51]])"
      ]
     },
     "execution_count": 57,
     "metadata": {},
     "output_type": "execute_result"
    }
   ],
   "source": [
    "import numpy as np\n",
    "import os \n",
    "import matplotlib.pyplot\n",
    "a = np.array([1, 2, 3])\n",
    "a2 = np.array([[1, 2], [3, 4]])\n",
    "a3 = np.array([[1, 3], [9, 10]])\n",
    "print('type', type(a))\n",
    "print('type of elements', a.dtype)\n",
    "print('dim = ', a2.ndim)\n",
    "print('shape', a3.shape)\n",
    "zeroArray = np.zeros((3, 4), dtype = 'uint8')\n",
    "randomArray = np.random.randint(50, 100, size = (3, 4))\n",
    "randomArray"
   ]
  },
  {
   "cell_type": "markdown",
   "metadata": {},
   "source": [
    "Operations with Arrays and Datatypes"
   ]
  },
  {
   "cell_type": "code",
   "execution_count": 58,
   "metadata": {},
   "outputs": [
    {
     "name": "stdout",
     "output_type": "stream",
     "text": [
      "[[ 2  5]\n",
      " [12 14]]\n",
      "[[ 1  6]\n",
      " [27 40]]\n",
      "float64\n",
      "[[ 2  5  8]\n",
      " [ 3  6  9]\n",
      " [ 4  7 10]]\n"
     ]
    }
   ],
   "source": [
    "a4 = a2 + a3\n",
    "sum = np.add(a2, a3)\n",
    "print(sum)\n",
    "a4 = a2 * a3\n",
    "print(a4)\n",
    "a4 = a2 ** 2\n",
    "sqrArray = np.sqrt(a4)\n",
    "print(sqrArray.dtype)\n",
    "a4 = np.array([[2, 3, 4], [5, 6, 7], [8, 9, 10]])\n",
    "Trans_array = a4.T\n",
    "print(Trans_array)"
   ]
  },
  {
   "cell_type": "markdown",
   "metadata": {},
   "source": [
    "Indexing and slicing"
   ]
  },
  {
   "cell_type": "code",
   "execution_count": 59,
   "metadata": {},
   "outputs": [
    {
     "name": "stdout",
     "output_type": "stream",
     "text": [
      "[ 0.   0.5  1.   1.5  2.   2.5  3.   3.5  4.   4.5  5.   5.5  6.   6.5\n",
      "  7.   7.5  8.   8.5  9.   9.5 10. ]\n",
      "105.0\n",
      "[ 4.  7. 10.]\n"
     ]
    },
    {
     "data": {
      "image/png": "[encoded data removed]",
      "text/plain": [
       "<Figure size 432x288 with 1 Axes>"
      ]
     },
     "metadata": {
      "needs_background": "light"
     },
     "output_type": "display_data"
    }
   ],
   "source": [
    "arrayLine = np.linspace(0, 10, 21)\n",
    "print(arrayLine)\n",
    "#arrayRange = np.arange(10,200,5)\n",
    "#print(arrayRange)\n",
    "#print(arrayRange[10:])\n",
    "#print(arrayRange[arrayRange % 40 == 0] ** 2)\n",
    "sumLine = arrayLine.sum(-1)\n",
    "print(sumLine)\n",
    "bmi = a4[ :,2].astype(float)\n",
    "age = a4[ :,0].astype(int)\n",
    "print(bmi)\n",
    "matplotlib.pyplot.scatter(age,bmi)\n",
    "matplotlib.pyplot.show()"
   ]
  }
 ],
 "metadata": {
  "interpreter": {
   "hash": "8fa8db45c6341d4c26f24dc8381e2c3c432060d26e2837089ffdef2b93d69026"
  },
  "kernelspec": {
   "display_name": "Python 3.9.10 64-bit (windows store)",
   "language": "python",
   "name": "python3"
  },
  "language_info": {
   "codemirror_mode": {
    "name": "ipython",
    "version": 3
   },
   "file_extension": ".py",
   "mimetype": "text/x-python",
   "name": "python",
   "nbconvert_exporter": "python",
   "pygments_lexer": "ipython3",
   "version": "3.9.7"
  },
  "orig_nbformat": 4
 },
 "nbformat": 4,
 "nbformat_minor": 2
}
